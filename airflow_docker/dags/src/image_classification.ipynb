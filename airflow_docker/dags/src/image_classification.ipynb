{
 "cells": [
  {
   "cell_type": "code",
   "execution_count": 2,
   "metadata": {},
   "outputs": [],
   "source": [
    "# Import necessary libraries\n",
    "import os\n",
    "import cv2\n",
    "import pandas as pd\n"
   ]
  },
  {
   "cell_type": "code",
   "execution_count": 3,
   "metadata": {},
   "outputs": [],
   "source": [
    "os.chdir('/Users/gowtham/Documents/python/SCB/airflow/airflow_docker/')"
   ]
  },
  {
   "cell_type": "code",
   "execution_count": 6,
   "metadata": {},
   "outputs": [
    {
     "name": "stdout",
     "output_type": "stream",
     "text": [
      "Processing class: potato_early_blight\n",
      "Processing class: corn_maize_common_rust\n",
      "Processing class: tomato_bacterial_spot\n"
     ]
    }
   ],
   "source": [
    "# Extract the images\n",
    "\n",
    "images_ = []\n",
    "labels_ = []\n",
    "\n",
    "dataset_path = '/Users/gowtham/Documents/python/SCB/airflow/airflow_docker/data'\n",
    "df = pd.DataFrame(columns=[\"file_name\", \"class\", \"image\"])\n",
    "\n",
    "try:\n",
    "    image_size = input(\"Enter the resizing width and height of the image(e.g., 128, 128): \")\n",
    "    # Validate user input for image size\n",
    "    image_size = eval(image_size)\n",
    "\n",
    "    for labels in os.listdir(dataset_path + '/plant_images'):\n",
    "        if labels != \".DS_Store\":\n",
    "            print(f\"Processing class: {labels}\")\n",
    "            class_path = os.path.join(dataset_path + '/plant_images', labels)\n",
    "\n",
    "            for img in os.listdir(class_path):\n",
    "                image_path = os.path.join(class_path, img)\n",
    "                image = cv2.imread(image_path)\n",
    "\n",
    "                # Resize the image using OpenCV's resize function\n",
    "                resized_image = cv2.resize(image, image_size)\n",
    "\n",
    "                # Temporary list to store data for each image\n",
    "                image_data = {\"file_name\": img, \"class\": labels, \"image\": resized_image}\n",
    "\n",
    "                # Append data using pd.concat (recommended approach)\n",
    "                df = pd.concat([df, pd.DataFrame.from_dict([image_data])], ignore_index=True)\n",
    "\n",
    "except ValueError:\n",
    "    print(\"Invalid input. Please enter image size as width,height (e.g., 128, 128).\")\n",
    "    exit()\n",
    "\n",
    "# After processing all images, consider saving the DataFrame\n",
    "if len(df) > 0:\n",
    "    df.to_csv(dataset_path + \"/preprocess_1/plant_image_data.csv\", index=False)  # Save DataFrame as CSV\n"
   ]
  },
  {
   "cell_type": "code",
   "execution_count": 7,
   "metadata": {},
   "outputs": [
    {
     "data": {
      "text/html": [
       "<div>\n",
       "<style scoped>\n",
       "    .dataframe tbody tr th:only-of-type {\n",
       "        vertical-align: middle;\n",
       "    }\n",
       "\n",
       "    .dataframe tbody tr th {\n",
       "        vertical-align: top;\n",
       "    }\n",
       "\n",
       "    .dataframe thead th {\n",
       "        text-align: right;\n",
       "    }\n",
       "</style>\n",
       "<table border=\"1\" class=\"dataframe\">\n",
       "  <thead>\n",
       "    <tr style=\"text-align: right;\">\n",
       "      <th></th>\n",
       "      <th>file_name</th>\n",
       "      <th>class</th>\n",
       "      <th>image</th>\n",
       "    </tr>\n",
       "  </thead>\n",
       "  <tbody>\n",
       "    <tr>\n",
       "      <th>290</th>\n",
       "      <td>c2cc82b8-9f74-4e40-9792-c121a89a84c0___RS_Earl...</td>\n",
       "      <td>potato_early_blight</td>\n",
       "      <td>[[[194, 180, 181], [196, 182, 183], [198, 184,...</td>\n",
       "    </tr>\n",
       "    <tr>\n",
       "      <th>756</th>\n",
       "      <td>e1fa4f5f-d166-4483-95c4-0c420ee2098e___GCREC_B...</td>\n",
       "      <td>tomato_bacterial_spot</td>\n",
       "      <td>[[[153, 151, 157], [157, 155, 161], [154, 152,...</td>\n",
       "    </tr>\n",
       "    <tr>\n",
       "      <th>813</th>\n",
       "      <td>f9ca8392-73cf-4045-96f4-5fe481418df1___GCREC_B...</td>\n",
       "      <td>tomato_bacterial_spot</td>\n",
       "      <td>[[[159, 155, 160], [160, 156, 161], [163, 159,...</td>\n",
       "    </tr>\n",
       "    <tr>\n",
       "      <th>99</th>\n",
       "      <td>e9f9e200-b7ff-4a59-af32-b4faf3f27b17___RS_Earl...</td>\n",
       "      <td>potato_early_blight</td>\n",
       "      <td>[[[190, 185, 187], [199, 194, 196], [200, 195,...</td>\n",
       "    </tr>\n",
       "    <tr>\n",
       "      <th>724</th>\n",
       "      <td>f68ccc94-dbbb-43e3-a7fb-c298c0f5830c___GCREC_B...</td>\n",
       "      <td>tomato_bacterial_spot</td>\n",
       "      <td>[[[105, 105, 117], [99, 99, 111], [107, 107, 1...</td>\n",
       "    </tr>\n",
       "    <tr>\n",
       "      <th>88</th>\n",
       "      <td>ffef8a3b-3e8a-4c24-a27e-64c41708f7a0___RS_Earl...</td>\n",
       "      <td>potato_early_blight</td>\n",
       "      <td>[[[154, 143, 146], [178, 167, 170], [164, 153,...</td>\n",
       "    </tr>\n",
       "    <tr>\n",
       "      <th>289</th>\n",
       "      <td>f48fc3b4-b7e7-4ad5-a651-0bf61a5173ff___RS_Earl...</td>\n",
       "      <td>potato_early_blight</td>\n",
       "      <td>[[[115, 113, 125], [107, 105, 117], [121, 119,...</td>\n",
       "    </tr>\n",
       "    <tr>\n",
       "      <th>543</th>\n",
       "      <td>RS_Rust 2473.JPG</td>\n",
       "      <td>corn_maize_common_rust</td>\n",
       "      <td>[[[0, 0, 0], [0, 0, 0], [0, 0, 0], [0, 0, 0], ...</td>\n",
       "    </tr>\n",
       "    <tr>\n",
       "      <th>255</th>\n",
       "      <td>f813e04e-a4f1-4c7f-a56d-cf0829801acb___RS_Earl...</td>\n",
       "      <td>potato_early_blight</td>\n",
       "      <td>[[[190, 183, 186], [198, 191, 194], [186, 179,...</td>\n",
       "    </tr>\n",
       "    <tr>\n",
       "      <th>466</th>\n",
       "      <td>RS_Rust 2622.JPG</td>\n",
       "      <td>corn_maize_common_rust</td>\n",
       "      <td>[[[0, 0, 0], [0, 0, 0], [0, 0, 0], [0, 0, 0], ...</td>\n",
       "    </tr>\n",
       "  </tbody>\n",
       "</table>\n",
       "</div>"
      ],
      "text/plain": [
       "                                             file_name  \\\n",
       "290  c2cc82b8-9f74-4e40-9792-c121a89a84c0___RS_Earl...   \n",
       "756  e1fa4f5f-d166-4483-95c4-0c420ee2098e___GCREC_B...   \n",
       "813  f9ca8392-73cf-4045-96f4-5fe481418df1___GCREC_B...   \n",
       "99   e9f9e200-b7ff-4a59-af32-b4faf3f27b17___RS_Earl...   \n",
       "724  f68ccc94-dbbb-43e3-a7fb-c298c0f5830c___GCREC_B...   \n",
       "88   ffef8a3b-3e8a-4c24-a27e-64c41708f7a0___RS_Earl...   \n",
       "289  f48fc3b4-b7e7-4ad5-a651-0bf61a5173ff___RS_Earl...   \n",
       "543                                   RS_Rust 2473.JPG   \n",
       "255  f813e04e-a4f1-4c7f-a56d-cf0829801acb___RS_Earl...   \n",
       "466                                   RS_Rust 2622.JPG   \n",
       "\n",
       "                      class                                              image  \n",
       "290     potato_early_blight  [[[194, 180, 181], [196, 182, 183], [198, 184,...  \n",
       "756   tomato_bacterial_spot  [[[153, 151, 157], [157, 155, 161], [154, 152,...  \n",
       "813   tomato_bacterial_spot  [[[159, 155, 160], [160, 156, 161], [163, 159,...  \n",
       "99      potato_early_blight  [[[190, 185, 187], [199, 194, 196], [200, 195,...  \n",
       "724   tomato_bacterial_spot  [[[105, 105, 117], [99, 99, 111], [107, 107, 1...  \n",
       "88      potato_early_blight  [[[154, 143, 146], [178, 167, 170], [164, 153,...  \n",
       "289     potato_early_blight  [[[115, 113, 125], [107, 105, 117], [121, 119,...  \n",
       "543  corn_maize_common_rust  [[[0, 0, 0], [0, 0, 0], [0, 0, 0], [0, 0, 0], ...  \n",
       "255     potato_early_blight  [[[190, 183, 186], [198, 191, 194], [186, 179,...  \n",
       "466  corn_maize_common_rust  [[[0, 0, 0], [0, 0, 0], [0, 0, 0], [0, 0, 0], ...  "
      ]
     },
     "execution_count": 7,
     "metadata": {},
     "output_type": "execute_result"
    }
   ],
   "source": [
    "df.sample(10)"
   ]
  },
  {
   "cell_type": "code",
   "execution_count": 8,
   "metadata": {},
   "outputs": [
    {
     "data": {
      "text/plain": [
       "<bound method IndexOpsMixin.nunique of 0      bc7552e4-3901-41b8-8bef-727eeca4270e___RS_Earl...\n",
       "1      d8a8d6e5-d82d-4f7c-aac5-183e85549d9b___RS_Earl...\n",
       "2      d84ba2ee-6ef5-45b7-a15a-b677b99cd3f6___RS_Earl...\n",
       "3      f164ce92-d109-47ca-9f75-380a7f16155a___RS_Earl...\n",
       "4      faac446b-34ac-414a-9f0e-148d6ee87bfa___RS_Earl...\n",
       "                             ...                        \n",
       "895    f9299ed5-ac75-4849-a8b0-1e1b6c9d3097___GCREC_B...\n",
       "896    e77c7af3-35cb-496d-bc8b-34bc2344b8fc___GCREC_B...\n",
       "897    e2941eab-3c1c-43a2-aa6d-5f3926da0568___GCREC_B...\n",
       "898    ea4ddb4b-216a-4ec2-85bc-06314c7de145___GCREC_B...\n",
       "899    fc48610a-675f-4fdf-998d-5d877c909550___GCREC_B...\n",
       "Name: file_name, Length: 900, dtype: object>"
      ]
     },
     "execution_count": 8,
     "metadata": {},
     "output_type": "execute_result"
    }
   ],
   "source": [
    "df['file_name'].nunique"
   ]
  },
  {
   "cell_type": "code",
   "execution_count": 9,
   "metadata": {},
   "outputs": [
    {
     "data": {
      "text/html": [
       "<div>\n",
       "<style scoped>\n",
       "    .dataframe tbody tr th:only-of-type {\n",
       "        vertical-align: middle;\n",
       "    }\n",
       "\n",
       "    .dataframe tbody tr th {\n",
       "        vertical-align: top;\n",
       "    }\n",
       "\n",
       "    .dataframe thead th {\n",
       "        text-align: right;\n",
       "    }\n",
       "</style>\n",
       "<table border=\"1\" class=\"dataframe\">\n",
       "  <thead>\n",
       "    <tr style=\"text-align: right;\">\n",
       "      <th></th>\n",
       "      <th>file_name</th>\n",
       "      <th>class</th>\n",
       "    </tr>\n",
       "  </thead>\n",
       "  <tbody>\n",
       "    <tr>\n",
       "      <th>0</th>\n",
       "      <td>bc7552e4-3901-41b8-8bef-727eeca4270e___RS_Earl...</td>\n",
       "      <td>potato_early_blight</td>\n",
       "    </tr>\n",
       "    <tr>\n",
       "      <th>1</th>\n",
       "      <td>d8a8d6e5-d82d-4f7c-aac5-183e85549d9b___RS_Earl...</td>\n",
       "      <td>potato_early_blight</td>\n",
       "    </tr>\n",
       "    <tr>\n",
       "      <th>2</th>\n",
       "      <td>d84ba2ee-6ef5-45b7-a15a-b677b99cd3f6___RS_Earl...</td>\n",
       "      <td>potato_early_blight</td>\n",
       "    </tr>\n",
       "    <tr>\n",
       "      <th>3</th>\n",
       "      <td>f164ce92-d109-47ca-9f75-380a7f16155a___RS_Earl...</td>\n",
       "      <td>potato_early_blight</td>\n",
       "    </tr>\n",
       "    <tr>\n",
       "      <th>4</th>\n",
       "      <td>faac446b-34ac-414a-9f0e-148d6ee87bfa___RS_Earl...</td>\n",
       "      <td>potato_early_blight</td>\n",
       "    </tr>\n",
       "  </tbody>\n",
       "</table>\n",
       "</div>"
      ],
      "text/plain": [
       "                                           file_name                class\n",
       "0  bc7552e4-3901-41b8-8bef-727eeca4270e___RS_Earl...  potato_early_blight\n",
       "1  d8a8d6e5-d82d-4f7c-aac5-183e85549d9b___RS_Earl...  potato_early_blight\n",
       "2  d84ba2ee-6ef5-45b7-a15a-b677b99cd3f6___RS_Earl...  potato_early_blight\n",
       "3  f164ce92-d109-47ca-9f75-380a7f16155a___RS_Earl...  potato_early_blight\n",
       "4  faac446b-34ac-414a-9f0e-148d6ee87bfa___RS_Earl...  potato_early_blight"
      ]
     },
     "execution_count": 9,
     "metadata": {},
     "output_type": "execute_result"
    }
   ],
   "source": [
    "df1 = df[['file_name', 'class']]\n",
    "df1.head()"
   ]
  },
  {
   "cell_type": "code",
   "execution_count": null,
   "metadata": {},
   "outputs": [],
   "source": []
  }
 ],
 "metadata": {
  "kernelspec": {
   "display_name": "cv-env",
   "language": "python",
   "name": "python3"
  },
  "language_info": {
   "codemirror_mode": {
    "name": "ipython",
    "version": 3
   },
   "file_extension": ".py",
   "mimetype": "text/x-python",
   "name": "python",
   "nbconvert_exporter": "python",
   "pygments_lexer": "ipython3",
   "version": "3.11.9"
  }
 },
 "nbformat": 4,
 "nbformat_minor": 2
}
